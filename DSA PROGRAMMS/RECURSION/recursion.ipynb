{
 "cells": [
  {
   "cell_type": "code",
   "execution_count": 17,
   "id": "66ae5766-a64e-48a5-b5d7-403cc12326c6",
   "metadata": {},
   "outputs": [
    {
     "name": "stdout",
     "output_type": "stream",
     "text": [
      "Enter the Number:  3\n",
      "3 2 1 "
     ]
    },
    {
     "name": "stdout",
     "output_type": "stream",
     "text": [
      "3 2 1 "
     ]
    }
   ],
   "source": [
    "#tail recurssion\n",
    "def tailrecursion(n):\n",
    "    if n:\n",
    "        print(n,end=\" \")\n",
    "        tailrecursion(n-1)\n",
    "    \n",
    "n = int(input(\"Enter the Number: \").strip())\n",
    "tailrecursion(n)"
   ]
  },
  {
   "cell_type": "code",
   "execution_count": 14,
   "id": "b9c50b9d-6ffa-47eb-97e3-c5e2101e647e",
   "metadata": {},
   "outputs": [
    {
     "name": "stdout",
     "output_type": "stream",
     "text": [
      "Enter the Number:  3\n",
      "3 2 1 "
     ]
    },
    {
     "name": "stdout",
     "output_type": "stream",
     "text": [
      "3 2 1 "
     ]
    }
   ],
   "source": [
    "#head recurssion\n",
    "def headrecursion(n):\n",
    "    if n:\n",
    "        print(n,end=\" \")\n",
    "        headrecursion(n-1)\n",
    "n = int(input(\"Enter the Number: \").strip())\n",
    "headrecursion(n)"
   ]
  },
  {
   "cell_type": "code",
   "execution_count": 7,
   "id": "0dcb8bde-c278-4f6d-b9d1-76ae3ae68421",
   "metadata": {},
   "outputs": [
    {
     "name": "stdin",
     "output_type": "stream",
     "text": [
      "Enter the n:  4\n"
     ]
    },
    {
     "name": "stdout",
     "output_type": "stream",
     "text": [
      "The sum of 4 natural numbers is 10\n"
     ]
    }
   ],
   "source": [
    "#sum of n natural numbers\n",
    "\n",
    "def sum_n(n):\n",
    "    if n ==0:\n",
    "        return 0\n",
    "    return n + sum_n(n-1)\n",
    "\n",
    "n = int(input(\"Enter the n: \").strip())\n",
    "print(f\"The sum of {n} natural numbers is {sum_n(n)}\")"
   ]
  },
  {
   "cell_type": "code",
   "execution_count": 16,
   "id": "98b4c9b4-f704-4278-ae81-92ac43a5d2ac",
   "metadata": {},
   "outputs": [
    {
     "name": "stdin",
     "output_type": "stream",
     "text": [
      "Enter the number :  1\n"
     ]
    },
    {
     "name": "stdout",
     "output_type": "stream",
     "text": [
      "The factorial of 1 is 1\n"
     ]
    }
   ],
   "source": [
    "#factorial of a number\n",
    "def fact(n):\n",
    "    if n < 0:\n",
    "        return \"can't find factorial for negative numbers\"\n",
    "    if n <=1:\n",
    "        return 1\n",
    "    return n*fact(n-1)\n",
    "\n",
    "n = int(input(\"Enter the number : \").strip())\n",
    "print(f\"The factorial of {n} is {fact(n)}\")"
   ]
  },
  {
   "cell_type": "code",
   "execution_count": 24,
   "id": "90408056-5931-4072-9083-229e0f4d1e49",
   "metadata": {},
   "outputs": [
    {
     "name": "stdin",
     "output_type": "stream",
     "text": [
      "Enter the number :  8\n",
      "Enter the power :  2\n"
     ]
    },
    {
     "name": "stdout",
     "output_type": "stream",
     "text": [
      "The power of 8^2 is 64\n"
     ]
    }
   ],
   "source": [
    "#power of n\n",
    "\n",
    "def pow(m,n):\n",
    "    if n==0:\n",
    "        return 1\n",
    "    return m * pow(m,n-1)\n",
    "\n",
    "m = int(input(\"Enter the number : \").strip())\n",
    "n = int(input(\"Enter the power : \").strip())\n",
    "print(f\"The power of {m}^{n} is {pow(m=m,n=n)}\")"
   ]
  },
  {
   "cell_type": "code",
   "execution_count": 35,
   "id": "8630f8bd-ab1c-4ac2-a854-dc9188002718",
   "metadata": {},
   "outputs": [
    {
     "name": "stdin",
     "output_type": "stream",
     "text": [
      "Enter the number :  2\n",
      "Enter the power :  3\n"
     ]
    },
    {
     "name": "stdout",
     "output_type": "stream",
     "text": [
      "The power of 2^3 is 8\n"
     ]
    }
   ],
   "source": [
    "#pow effificient\n",
    "def pow(m,n):\n",
    "    if n==0:\n",
    "        return 1\n",
    "    if n % 2 ==0:\n",
    "        return pow(m*m,n//2)\n",
    "    else:\n",
    "        return m * pow(m*m,n//2)\n",
    "\n",
    "m = int(input(\"Enter the number : \").strip())\n",
    "n = int(input(\"Enter the power : \").strip())\n",
    "print(f\"The power of {m}^{n} is {pow(m=m,n=n)}\")\n"
   ]
  },
  {
   "cell_type": "code",
   "execution_count": 52,
   "id": "f3f23ae9-d282-437f-879a-2e0b656c11e6",
   "metadata": {},
   "outputs": [
    {
     "name": "stdin",
     "output_type": "stream",
     "text": [
      "Enter the n : 10\n"
     ]
    },
    {
     "name": "stdout",
     "output_type": "stream",
     "text": [
      "0 1 1 2 3 5 8 13 21 34 "
     ]
    }
   ],
   "source": [
    "#fibonocci series\n",
    "#time complexity O(2^n)\n",
    "\n",
    "def fibo(n):\n",
    "    if n <= 1:\n",
    "        return n\n",
    "    return fibo(n-2) + fibo(n-1)\n",
    "\n",
    "n = int(input(\"Enter the n :\"))\n",
    "# print(fibo(n))\n",
    "for i in range(n):\n",
    "    print(fibo(i),end=\" \")\n",
    "\n"
   ]
  },
  {
   "cell_type": "code",
   "execution_count": 59,
   "id": "6563f645-8d19-4ac1-ab9a-e8bfce43b401",
   "metadata": {},
   "outputs": [
    {
     "name": "stdin",
     "output_type": "stream",
     "text": [
      "Enter the n : 10\n"
     ]
    },
    {
     "name": "stdout",
     "output_type": "stream",
     "text": [
      "0 1 1 2 3 5 8 13 21 34 "
     ]
    }
   ],
   "source": [
    "#fibonocci series efficient\n",
    "#Time complexity O(n)\n",
    "\n",
    "def fibo(n):\n",
    "    if arr[n] is not None:\n",
    "        return arr[n]\n",
    "\n",
    "    if n <= 1:\n",
    "        arr[n] = n\n",
    "    else:\n",
    "        arr[n] = fibo(n-1) + fibo(n-2)\n",
    "\n",
    "    return arr[n]\n",
    "\n",
    "n = int(input(\"Enter the n :\"))\n",
    "arr = [None] * (n + 1)\n",
    "\n",
    "for i in range(n):\n",
    "    print(fibo(i), end=\" \")\n",
    "\n",
    "\n"
   ]
  },
  {
   "cell_type": "code",
   "execution_count": 5,
   "id": "5120c676-e659-4084-8a4f-53454c447294",
   "metadata": {},
   "outputs": [
    {
     "name": "stdin",
     "output_type": "stream",
     "text": [
      "Enter the n :  10\n",
      "Enter the r :  4\n"
     ]
    },
    {
     "name": "stdout",
     "output_type": "stream",
     "text": [
      "The 10C4 is 210\n"
     ]
    }
   ],
   "source": [
    "#n*C_r = fact(n) / (fact(r) * fact(n-r))\n",
    "def fact(n):\n",
    "    if n <=1:\n",
    "        return 1\n",
    "    return n*fact(n-1)\n",
    "\n",
    "def ncr(n,r):\n",
    "    t1 = fact(n)\n",
    "    t2 = fact(r)\n",
    "    t3 = fact(n-r)\n",
    "    return t1//(t2*t3)\n",
    "\n",
    "n = int(input(\"Enter the n : \"))\n",
    "r = int(input(\"Enter the r : \"))\n",
    "\n",
    "print(f\"The {n}C{r} is {ncr(n,r)}\")"
   ]
  },
  {
   "cell_type": "markdown",
   "id": "ddab3982-4feb-4fde-9847-b64ebd43dcac",
   "metadata": {},
   "source": [
    "nCr and pascal triange both are same"
   ]
  },
  {
   "cell_type": "code",
   "execution_count": 6,
   "id": "7045c4a3-9db4-4de9-b1ef-f0332e44e86d",
   "metadata": {},
   "outputs": [
    {
     "name": "stdin",
     "output_type": "stream",
     "text": [
      "Enter the n :  10\n",
      "Enter the r :  4\n"
     ]
    },
    {
     "name": "stdout",
     "output_type": "stream",
     "text": [
      "The 10C4 is 210\n"
     ]
    }
   ],
   "source": [
    "#recursive ncr\n",
    "\n",
    "def nCr(row,col):\n",
    "    if row == col or col == 0:\n",
    "        return 1\n",
    "    return nCr(row-1,col-1) + nCr(row-1,col)\n",
    "\n",
    "n = int(input(\"Enter the n : \"))\n",
    "r = int(input(\"Enter the r : \"))\n",
    "\n",
    "print(f\"The {n}C{r} is {nCr(n,r)}\")"
   ]
  },
  {
   "cell_type": "code",
   "execution_count": 19,
   "id": "001f62c2-96be-4dfb-9ee3-1aea57a87457",
   "metadata": {},
   "outputs": [
    {
     "name": "stdin",
     "output_type": "stream",
     "text": [
      "Enter the n :  5\n"
     ]
    },
    {
     "name": "stdout",
     "output_type": "stream",
     "text": [
      "     1 \n",
      "    1 1 \n",
      "   1 2 1 \n",
      "  1 3 3 1 \n",
      " 1 4 6 4 1 \n"
     ]
    }
   ],
   "source": [
    "#pascal triangle\n",
    "\n",
    "def fact(n):\n",
    "    if n <=1:\n",
    "        return 1\n",
    "    return n*fact(n-1)\n",
    "\n",
    "def ncr(n,r):\n",
    "    t1 = fact(n)\n",
    "    t2 = fact(r)\n",
    "    t3 = fact(n-r)\n",
    "    return t1//(t2*t3)\n",
    "\n",
    "n = int(input(\"Enter the n : \"))\n",
    "for i in range(n):\n",
    "    print(' '*(n-i),end='')\n",
    "    for j in range(i+1):\n",
    "        print(ncr(i,j),end=\" \")\n",
    "    print()\n"
   ]
  },
  {
   "cell_type": "code",
   "execution_count": 24,
   "id": "ab738db9-278b-4f4a-912a-471f08467863",
   "metadata": {},
   "outputs": [
    {
     "name": "stdin",
     "output_type": "stream",
     "text": [
      "Enter the n :  5\n"
     ]
    },
    {
     "name": "stdout",
     "output_type": "stream",
     "text": [
      "     1 \n",
      "    1 1 \n",
      "   1 2 1 \n",
      "  1 3 3 1 \n",
      " 1 4 6 4 1 \n"
     ]
    }
   ],
   "source": [
    "#recursive pascal triangle\n",
    "def nCr(row,col):\n",
    "    if row == col or col == 0:\n",
    "        return 1\n",
    "    return nCr(row-1,col-1) + nCr(row-1,col)\n",
    "\n",
    "n = int(input(\"Enter the n : \"))\n",
    "for i in range(n):\n",
    "    print(' '*(n-i),end='')\n",
    "    for j in range(i+1):\n",
    "        print(nCr(i,j),end=\" \")\n",
    "    print()\n",
    "    "
   ]
  },
  {
   "cell_type": "code",
   "execution_count": 23,
   "id": "34dc0d56-deef-47f4-a2e1-ddc8454e9812",
   "metadata": {},
   "outputs": [
    {
     "name": "stdin",
     "output_type": "stream",
     "text": [
      "Enter the n:  5\n"
     ]
    },
    {
     "name": "stdout",
     "output_type": "stream",
     "text": [
      "      1 \n",
      "     1 1 \n",
      "    1 2 1 \n",
      "   1 3 3 1 \n",
      "  1 4 6 4 1 \n"
     ]
    }
   ],
   "source": [
    "#pascal triangle iterative\n",
    "\n",
    "n = int(input(\"Enter the n: \"))\n",
    "\n",
    "for i in range(n):\n",
    "    num = 1\n",
    "    print(' '*(n-i),end=' ')\n",
    "    for j in range(i+1):\n",
    "        print(num,end=' ')\n",
    "        num = num * (i-j) // (j+1)\n",
    "    print()\n",
    "\n",
    "    "
   ]
  },
  {
   "cell_type": "code",
   "execution_count": 26,
   "id": "93f9748f-2474-4265-b537-e4f06fd3f552",
   "metadata": {},
   "outputs": [
    {
     "name": "stdin",
     "output_type": "stream",
     "text": [
      "Enter the number of disks:  3\n"
     ]
    },
    {
     "name": "stdout",
     "output_type": "stream",
     "text": [
      "Move Disk 1 from A to C\n",
      "Move Disk 2 from A to B\n",
      "Move Disk 1 from C to B\n",
      "Move Disk 3 from A to C\n",
      "Move Disk 1 from B to A\n",
      "Move Disk 2 from B to C\n",
      "Move Disk 1 from A to C\n"
     ]
    }
   ],
   "source": [
    "#Tower of Hanoi\n",
    "def TOH(n,A,B,C):\n",
    "    if n>0:\n",
    "        TOH(n-1, A,C,B)\n",
    "        print(f\"Move Disk {n} from {A} to {C}\")\n",
    "        TOH(n-1,B,A,C)\n",
    "        \n",
    "\n",
    "n = int(input(\"Enter the number of disks: \"))\n",
    "TOH(n,'A','B','C')  #n , src, intermediate, des"
   ]
  }
 ],
 "metadata": {
  "kernelspec": {
   "display_name": "Python 3 (ipykernel)",
   "language": "python",
   "name": "python3"
  },
  "language_info": {
   "codemirror_mode": {
    "name": "ipython",
    "version": 3
   },
   "file_extension": ".py",
   "mimetype": "text/x-python",
   "name": "python",
   "nbconvert_exporter": "python",
   "pygments_lexer": "ipython3",
   "version": "3.12.3"
  }
 },
 "nbformat": 4,
 "nbformat_minor": 5
}
