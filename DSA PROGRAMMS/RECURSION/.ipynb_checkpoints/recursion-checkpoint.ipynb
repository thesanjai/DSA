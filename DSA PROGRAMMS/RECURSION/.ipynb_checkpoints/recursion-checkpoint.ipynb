{
 "cells": [
  {
   "cell_type": "code",
   "execution_count": 15,
   "id": "e42515a7",
   "metadata": {},
   "outputs": [
    {
     "name": "stdin",
     "output_type": "stream",
     "text": [
      "Enter the Number:  3\n"
     ]
    },
    {
     "name": "stdout",
     "output_type": "stream",
     "text": [
      "3 2 1 "
     ]
    }
   ],
   "source": [
    "#tail recurssion\n",
    "def tailrecursion(n):\n",
    "    if n:\n",
    "        print(n,end=\" \")\n",
    "        tailrecursion(n-1)\n",
    "    \n",
    "n = int(input(\"Enter the Number: \").strip())\n",
    "tailrecursion(n)"
   ]
  },
  {
   "cell_type": "code",
   "execution_count": 14,
   "id": "b9c50b9d-6ffa-47eb-97e3-c5e2101e647e",
   "metadata": {},
   "outputs": [
    {
     "name": "stdin",
     "output_type": "stream",
     "text": [
      "Enter the Number:  3\n"
     ]
    },
    {
     "name": "stdout",
     "output_type": "stream",
     "text": [
      "3 2 1 "
     ]
    }
   ],
   "source": [
    "#head recurssion\n",
    "def headrecursion(n):\n",
    "    if n:\n",
    "        print(n,end=\" \")\n",
    "        headrecursion(n-1)\n",
    "n = int(input(\"Enter the Number: \").strip())\n",
    "headrecursion(n)"
   ]
  },
  {
   "cell_type": "code",
   "execution_count": null,
   "id": "0dcb8bde-c278-4f6d-b9d1-76ae3ae68421",
   "metadata": {},
   "outputs": [],
   "source": []
  }
 ],
 "metadata": {
  "kernelspec": {
   "display_name": "Python 3 (ipykernel)",
   "language": "python",
   "name": "python3"
  },
  "language_info": {
   "codemirror_mode": {
    "name": "ipython",
    "version": 3
   },
   "file_extension": ".py",
   "mimetype": "text/x-python",
   "name": "python",
   "nbconvert_exporter": "python",
   "pygments_lexer": "ipython3",
   "version": "3.12.3"
  }
 },
 "nbformat": 4,
 "nbformat_minor": 5
}
